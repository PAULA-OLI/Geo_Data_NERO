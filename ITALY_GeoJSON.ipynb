{
 "cells": [
  {
   "cell_type": "code",
   "execution_count": 3,
   "metadata": {},
   "outputs": [
    {
     "name": "stdout",
     "output_type": "stream",
     "text": [
      "EPSG:4326\n",
      "EPSG:32719\n"
     ]
    }
   ],
   "source": [
    "############ ITALY - KML and KMZ FILES\n",
    "\n",
    "\n",
    "import geopandas as gpd\n",
    "\n",
    "gdf = gpd.read_file('/home/polivera/Documents/NERO - Database/Italy/Calci_2018/Evoluzione Perimetro Incendio Monte Serra 24 set 2018_00.kml', driver='KML')\n",
    "print(gdf.crs) \n",
    "# Reproject to EPSG:32719 for UTM zone 19S)\n",
    "gdf = gdf.to_crs(epsg=32719)\n",
    "print(gdf.crs)"
   ]
  },
  {
   "cell_type": "code",
   "execution_count": 4,
   "metadata": {},
   "outputs": [],
   "source": [
    "### CALCI\n",
    "import geopandas as gpd\n",
    "import pandas as pd\n",
    "import re\n",
    "\n",
    "def extract_iso_timestamp(name):\n",
    "    m = re.search(r'(\\d{4})(\\d{2})(\\d{2})_(\\d{2})(\\d{2})', str(name))\n",
    "    if m:\n",
    "        return f\"{m.group(1)}-{m.group(2)}-{m.group(3)} {m.group(4)}:{m.group(5)}\"\n",
    "    else:\n",
    "        return None\n",
    "\n",
    "# Create column \"iso_timestamp\" as text\n",
    "gdf['iso_timestamp'] = gdf['Name'].apply(extract_iso_timestamp)\n",
    "\n",
    "\n",
    "\n",
    "# Order time stamps\n",
    "gdf = gdf.sort_values('iso_timestamp', ascending=False).reset_index(drop=True)\n",
    "\n",
    "# Delete attributes\n",
    "gdf = gdf.drop('description', axis=1)\n",
    "gdf = gdf.drop('timestamp', axis=1)\n",
    "gdf = gdf.drop('begin', axis=1)\n",
    "gdf = gdf.drop('end', axis=1)\n",
    "gdf = gdf.drop('drawOrder', axis=1)\n",
    "gdf = gdf.drop('icon', axis=1)\n",
    "gdf = gdf.drop('altitudeMode', axis=1)\n",
    "gdf = gdf.drop('tessellate', axis=1)\n",
    "gdf = gdf.drop('extrude', axis=1)\n",
    "gdf = gdf.drop('visibility', axis=1)\n",
    "gdf = gdf.drop('snippet', axis=1)\n",
    "gdf = gdf.drop('Name', axis=1)\n",
    "\n",
    "gdf['id'] = gdf.index + 1\n",
    "\n",
    "gdf['area_ha'] = gdf.geometry.area / 10000  \n",
    "gdf['perimeter_m'] = gdf.geometry.length   \n",
    "\n",
    "columns_orden = ['id', 'iso_timestamp', 'area_ha', 'perimeter_m']\n",
    "\n",
    "# Save GeoJSON\n",
    "gdf.to_file('CalciFire_test8.geojson', driver='GeoJSON')"
   ]
  },
  {
   "cell_type": "code",
   "execution_count": 28,
   "metadata": {},
   "outputs": [
    {
     "name": "stdout",
     "output_type": "stream",
     "text": [
      "['Punti Bozzano', 'Perimetro Incendio Bozzano']\n"
     ]
    },
    {
     "name": "stderr",
     "output_type": "stream",
     "text": [
      "/home/polivera/miniconda3/envs/geo_data/lib/python3.10/site-packages/pyogrio/geopandas.py:265: UserWarning: More than one layer found in 'doc.kml': 'Punti Bozzano' (default), 'Perimetro Incendio Bozzano'. Specify layer parameter to avoid this warning.\n",
      "  result = read_func(\n"
     ]
    }
   ],
   "source": [
    "### MASSAROSA - KMZ FILE\n",
    "import geopandas as gpd\n",
    "import zipfile\n",
    "import os\n",
    "\n",
    "# Ruta al archivo KMZ\n",
    "kmz_path = '/home/polivera/Documents/NERO - Database/Italy/Massarosa_2022/Evoluzione Perimetro Incendio Massarosa 2022.kmz'\n",
    "\n",
    "# Carpeta temporal para extraer KML\n",
    "temp_dir = '/home/polivera/Documents/NERO - Database/Italy/Massarosa_2022'\n",
    "\n",
    "import os\n",
    "import zipfile\n",
    "import geopandas as gpd\n",
    "import fiona\n",
    "\n",
    "os.makedirs(temp_dir, exist_ok=True)\n",
    "\n",
    "# Extraer todos los archivos del KMZ (que es un ZIP)\n",
    "with zipfile.ZipFile(kmz_path, 'r') as zip_ref:\n",
    "    zip_ref.extractall(temp_dir)\n",
    "\n",
    "# Buscar archivo(s) KML extraído(s)\n",
    "kml_files = [f for f in os.listdir(temp_dir) if f.lower().endswith('.kml')]\n",
    "\n",
    "if not kml_files:\n",
    "    raise FileNotFoundError(\"No se encontró archivo KML en el KMZ extraído.\")\n",
    "\n",
    "# Leer el primer archivo KML para trabajar\n",
    "kml_path = os.path.join(temp_dir, kml_files[0])\n",
    "gdf = gpd.read_file(kml_path, driver='KML')\n",
    "\n",
    "print(fiona.listlayers(kml_path))\n",
    "\n",
    "\n"
   ]
  },
  {
   "cell_type": "code",
   "execution_count": 29,
   "metadata": {},
   "outputs": [
    {
     "ename": "KeyError",
     "evalue": "\"['snippet'] not found in axis\"",
     "output_type": "error",
     "traceback": [
      "\u001b[0;31m---------------------------------------------------------------------------\u001b[0m",
      "\u001b[0;31mKeyError\u001b[0m                                  Traceback (most recent call last)",
      "Cell \u001b[0;32mIn[29], line 21\u001b[0m\n\u001b[1;32m     19\u001b[0m gdf \u001b[38;5;241m=\u001b[39m gdf\u001b[38;5;241m.\u001b[39mdrop(\u001b[38;5;124m'\u001b[39m\u001b[38;5;124mextrude\u001b[39m\u001b[38;5;124m'\u001b[39m, axis\u001b[38;5;241m=\u001b[39m\u001b[38;5;241m1\u001b[39m)\n\u001b[1;32m     20\u001b[0m gdf \u001b[38;5;241m=\u001b[39m gdf\u001b[38;5;241m.\u001b[39mdrop(\u001b[38;5;124m'\u001b[39m\u001b[38;5;124mvisibility\u001b[39m\u001b[38;5;124m'\u001b[39m, axis\u001b[38;5;241m=\u001b[39m\u001b[38;5;241m1\u001b[39m)\n\u001b[0;32m---> 21\u001b[0m gdf \u001b[38;5;241m=\u001b[39m \u001b[43mgdf\u001b[49m\u001b[38;5;241;43m.\u001b[39;49m\u001b[43mdrop\u001b[49m\u001b[43m(\u001b[49m\u001b[38;5;124;43m'\u001b[39;49m\u001b[38;5;124;43msnippet\u001b[39;49m\u001b[38;5;124;43m'\u001b[39;49m\u001b[43m,\u001b[49m\u001b[43m \u001b[49m\u001b[43maxis\u001b[49m\u001b[38;5;241;43m=\u001b[39;49m\u001b[38;5;241;43m1\u001b[39;49m\u001b[43m)\u001b[49m\n\u001b[1;32m     23\u001b[0m gdf[\u001b[38;5;124m'\u001b[39m\u001b[38;5;124mid\u001b[39m\u001b[38;5;124m'\u001b[39m] \u001b[38;5;241m=\u001b[39m gdf\u001b[38;5;241m.\u001b[39mindex \u001b[38;5;241m+\u001b[39m \u001b[38;5;241m1\u001b[39m\n\u001b[1;32m     25\u001b[0m gdf[\u001b[38;5;124m'\u001b[39m\u001b[38;5;124marea_ha\u001b[39m\u001b[38;5;124m'\u001b[39m] \u001b[38;5;241m=\u001b[39m gdf\u001b[38;5;241m.\u001b[39mgeometry\u001b[38;5;241m.\u001b[39marea \u001b[38;5;241m/\u001b[39m \u001b[38;5;241m10000\u001b[39m  \n",
      "File \u001b[0;32m~/miniconda3/envs/geo_data/lib/python3.10/site-packages/pandas/core/frame.py:5603\u001b[0m, in \u001b[0;36mDataFrame.drop\u001b[0;34m(self, labels, axis, index, columns, level, inplace, errors)\u001b[0m\n\u001b[1;32m   5455\u001b[0m \u001b[38;5;28;01mdef\u001b[39;00m\u001b[38;5;250m \u001b[39m\u001b[38;5;21mdrop\u001b[39m(\n\u001b[1;32m   5456\u001b[0m     \u001b[38;5;28mself\u001b[39m,\n\u001b[1;32m   5457\u001b[0m     labels: IndexLabel \u001b[38;5;241m|\u001b[39m \u001b[38;5;28;01mNone\u001b[39;00m \u001b[38;5;241m=\u001b[39m \u001b[38;5;28;01mNone\u001b[39;00m,\n\u001b[0;32m   (...)\u001b[0m\n\u001b[1;32m   5464\u001b[0m     errors: IgnoreRaise \u001b[38;5;241m=\u001b[39m \u001b[38;5;124m\"\u001b[39m\u001b[38;5;124mraise\u001b[39m\u001b[38;5;124m\"\u001b[39m,\n\u001b[1;32m   5465\u001b[0m ) \u001b[38;5;241m-\u001b[39m\u001b[38;5;241m>\u001b[39m DataFrame \u001b[38;5;241m|\u001b[39m \u001b[38;5;28;01mNone\u001b[39;00m:\n\u001b[1;32m   5466\u001b[0m \u001b[38;5;250m    \u001b[39m\u001b[38;5;124;03m\"\"\"\u001b[39;00m\n\u001b[1;32m   5467\u001b[0m \u001b[38;5;124;03m    Drop specified labels from rows or columns.\u001b[39;00m\n\u001b[1;32m   5468\u001b[0m \n\u001b[0;32m   (...)\u001b[0m\n\u001b[1;32m   5601\u001b[0m \u001b[38;5;124;03m            weight  1.0     0.8\u001b[39;00m\n\u001b[1;32m   5602\u001b[0m \u001b[38;5;124;03m    \"\"\"\u001b[39;00m\n\u001b[0;32m-> 5603\u001b[0m     \u001b[38;5;28;01mreturn\u001b[39;00m \u001b[38;5;28;43msuper\u001b[39;49m\u001b[43m(\u001b[49m\u001b[43m)\u001b[49m\u001b[38;5;241;43m.\u001b[39;49m\u001b[43mdrop\u001b[49m\u001b[43m(\u001b[49m\n\u001b[1;32m   5604\u001b[0m \u001b[43m        \u001b[49m\u001b[43mlabels\u001b[49m\u001b[38;5;241;43m=\u001b[39;49m\u001b[43mlabels\u001b[49m\u001b[43m,\u001b[49m\n\u001b[1;32m   5605\u001b[0m \u001b[43m        \u001b[49m\u001b[43maxis\u001b[49m\u001b[38;5;241;43m=\u001b[39;49m\u001b[43maxis\u001b[49m\u001b[43m,\u001b[49m\n\u001b[1;32m   5606\u001b[0m \u001b[43m        \u001b[49m\u001b[43mindex\u001b[49m\u001b[38;5;241;43m=\u001b[39;49m\u001b[43mindex\u001b[49m\u001b[43m,\u001b[49m\n\u001b[1;32m   5607\u001b[0m \u001b[43m        \u001b[49m\u001b[43mcolumns\u001b[49m\u001b[38;5;241;43m=\u001b[39;49m\u001b[43mcolumns\u001b[49m\u001b[43m,\u001b[49m\n\u001b[1;32m   5608\u001b[0m \u001b[43m        \u001b[49m\u001b[43mlevel\u001b[49m\u001b[38;5;241;43m=\u001b[39;49m\u001b[43mlevel\u001b[49m\u001b[43m,\u001b[49m\n\u001b[1;32m   5609\u001b[0m \u001b[43m        \u001b[49m\u001b[43minplace\u001b[49m\u001b[38;5;241;43m=\u001b[39;49m\u001b[43minplace\u001b[49m\u001b[43m,\u001b[49m\n\u001b[1;32m   5610\u001b[0m \u001b[43m        \u001b[49m\u001b[43merrors\u001b[49m\u001b[38;5;241;43m=\u001b[39;49m\u001b[43merrors\u001b[49m\u001b[43m,\u001b[49m\n\u001b[1;32m   5611\u001b[0m \u001b[43m    \u001b[49m\u001b[43m)\u001b[49m\n",
      "File \u001b[0;32m~/miniconda3/envs/geo_data/lib/python3.10/site-packages/pandas/core/generic.py:4810\u001b[0m, in \u001b[0;36mNDFrame.drop\u001b[0;34m(self, labels, axis, index, columns, level, inplace, errors)\u001b[0m\n\u001b[1;32m   4808\u001b[0m \u001b[38;5;28;01mfor\u001b[39;00m axis, labels \u001b[38;5;129;01min\u001b[39;00m axes\u001b[38;5;241m.\u001b[39mitems():\n\u001b[1;32m   4809\u001b[0m     \u001b[38;5;28;01mif\u001b[39;00m labels \u001b[38;5;129;01mis\u001b[39;00m \u001b[38;5;129;01mnot\u001b[39;00m \u001b[38;5;28;01mNone\u001b[39;00m:\n\u001b[0;32m-> 4810\u001b[0m         obj \u001b[38;5;241m=\u001b[39m \u001b[43mobj\u001b[49m\u001b[38;5;241;43m.\u001b[39;49m\u001b[43m_drop_axis\u001b[49m\u001b[43m(\u001b[49m\u001b[43mlabels\u001b[49m\u001b[43m,\u001b[49m\u001b[43m \u001b[49m\u001b[43maxis\u001b[49m\u001b[43m,\u001b[49m\u001b[43m \u001b[49m\u001b[43mlevel\u001b[49m\u001b[38;5;241;43m=\u001b[39;49m\u001b[43mlevel\u001b[49m\u001b[43m,\u001b[49m\u001b[43m \u001b[49m\u001b[43merrors\u001b[49m\u001b[38;5;241;43m=\u001b[39;49m\u001b[43merrors\u001b[49m\u001b[43m)\u001b[49m\n\u001b[1;32m   4812\u001b[0m \u001b[38;5;28;01mif\u001b[39;00m inplace:\n\u001b[1;32m   4813\u001b[0m     \u001b[38;5;28mself\u001b[39m\u001b[38;5;241m.\u001b[39m_update_inplace(obj)\n",
      "File \u001b[0;32m~/miniconda3/envs/geo_data/lib/python3.10/site-packages/pandas/core/generic.py:4852\u001b[0m, in \u001b[0;36mNDFrame._drop_axis\u001b[0;34m(self, labels, axis, level, errors, only_slice)\u001b[0m\n\u001b[1;32m   4850\u001b[0m         new_axis \u001b[38;5;241m=\u001b[39m axis\u001b[38;5;241m.\u001b[39mdrop(labels, level\u001b[38;5;241m=\u001b[39mlevel, errors\u001b[38;5;241m=\u001b[39merrors)\n\u001b[1;32m   4851\u001b[0m     \u001b[38;5;28;01melse\u001b[39;00m:\n\u001b[0;32m-> 4852\u001b[0m         new_axis \u001b[38;5;241m=\u001b[39m \u001b[43maxis\u001b[49m\u001b[38;5;241;43m.\u001b[39;49m\u001b[43mdrop\u001b[49m\u001b[43m(\u001b[49m\u001b[43mlabels\u001b[49m\u001b[43m,\u001b[49m\u001b[43m \u001b[49m\u001b[43merrors\u001b[49m\u001b[38;5;241;43m=\u001b[39;49m\u001b[43merrors\u001b[49m\u001b[43m)\u001b[49m\n\u001b[1;32m   4853\u001b[0m     indexer \u001b[38;5;241m=\u001b[39m axis\u001b[38;5;241m.\u001b[39mget_indexer(new_axis)\n\u001b[1;32m   4855\u001b[0m \u001b[38;5;66;03m# Case for non-unique axis\u001b[39;00m\n\u001b[1;32m   4856\u001b[0m \u001b[38;5;28;01melse\u001b[39;00m:\n",
      "File \u001b[0;32m~/miniconda3/envs/geo_data/lib/python3.10/site-packages/pandas/core/indexes/base.py:7136\u001b[0m, in \u001b[0;36mIndex.drop\u001b[0;34m(self, labels, errors)\u001b[0m\n\u001b[1;32m   7134\u001b[0m \u001b[38;5;28;01mif\u001b[39;00m mask\u001b[38;5;241m.\u001b[39many():\n\u001b[1;32m   7135\u001b[0m     \u001b[38;5;28;01mif\u001b[39;00m errors \u001b[38;5;241m!=\u001b[39m \u001b[38;5;124m\"\u001b[39m\u001b[38;5;124mignore\u001b[39m\u001b[38;5;124m\"\u001b[39m:\n\u001b[0;32m-> 7136\u001b[0m         \u001b[38;5;28;01mraise\u001b[39;00m \u001b[38;5;167;01mKeyError\u001b[39;00m(\u001b[38;5;124mf\u001b[39m\u001b[38;5;124m\"\u001b[39m\u001b[38;5;132;01m{\u001b[39;00mlabels[mask]\u001b[38;5;241m.\u001b[39mtolist()\u001b[38;5;132;01m}\u001b[39;00m\u001b[38;5;124m not found in axis\u001b[39m\u001b[38;5;124m\"\u001b[39m)\n\u001b[1;32m   7137\u001b[0m     indexer \u001b[38;5;241m=\u001b[39m indexer[\u001b[38;5;241m~\u001b[39mmask]\n\u001b[1;32m   7138\u001b[0m \u001b[38;5;28;01mreturn\u001b[39;00m \u001b[38;5;28mself\u001b[39m\u001b[38;5;241m.\u001b[39mdelete(indexer)\n",
      "\u001b[0;31mKeyError\u001b[0m: \"['snippet'] not found in axis\""
     ]
    }
   ],
   "source": [
    "### MASSAROSA\n",
    "# Rename attributes\n",
    "gdf = gdf.rename(columns={\n",
    "    'Name': 'iso_timestamp'\n",
    "})\n",
    "\n",
    "# Order time stamps\n",
    "gdf = gdf.sort_values('iso_timestamp', ascending=False).reset_index(drop=True)\n",
    "\n",
    "# Delete attributes\n",
    "gdf = gdf.drop('description', axis=1)\n",
    "gdf = gdf.drop('timestamp', axis=1)\n",
    "gdf = gdf.drop('begin', axis=1)\n",
    "gdf = gdf.drop('end', axis=1)\n",
    "gdf = gdf.drop('drawOrder', axis=1)\n",
    "gdf = gdf.drop('icon', axis=1)\n",
    "gdf = gdf.drop('altitudeMode', axis=1)\n",
    "gdf = gdf.drop('tessellate', axis=1)\n",
    "gdf = gdf.drop('extrude', axis=1)\n",
    "gdf = gdf.drop('visibility', axis=1)\n",
    "gdf = gdf.drop('snippet', axis=1)\n",
    "\n",
    "gdf['id'] = gdf.index + 1\n",
    "\n",
    "gdf['area_ha'] = gdf.geometry.area / 10000  \n",
    "gdf['perimeter_m'] = gdf.geometry.length   \n",
    "\n",
    "columns_orden = ['id', 'iso_timestamp', 'area_ha', 'perimeter_m']\n",
    "\n",
    "# Save GeoJSON\n",
    "gdf.to_file('MassarosaFire_test2.geojson', driver='GeoJSON')"
   ]
  }
 ],
 "metadata": {
  "kernelspec": {
   "display_name": "geo_data",
   "language": "python",
   "name": "python3"
  },
  "language_info": {
   "codemirror_mode": {
    "name": "ipython",
    "version": 3
   },
   "file_extension": ".py",
   "mimetype": "text/x-python",
   "name": "python",
   "nbconvert_exporter": "python",
   "pygments_lexer": "ipython3",
   "version": "3.10.18"
  }
 },
 "nbformat": 4,
 "nbformat_minor": 2
}
