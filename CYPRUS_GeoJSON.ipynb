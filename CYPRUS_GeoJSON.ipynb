{
 "cells": [
  {
   "cell_type": "code",
   "execution_count": null,
   "metadata": {},
   "outputs": [
    {
     "name": "stdout",
     "output_type": "stream",
     "text": [
      "EPSG:4326\n",
      "EPSG:32719\n"
     ]
    }
   ],
   "source": [
    "######## CYPRUS - KML FILE\n",
    "\n",
    "import geopandas as gpd\n",
    "\n",
    "gdf = gpd.read_file('/home/polivera/Documents/NERO - Database/Cyprus/Cyprus - Arakapas 2021/ARAKAPAS_CY_2021_K.kml', driver='KML')\n",
    "print(gdf.crs)  # If it's EPSG:4326 (WGS84), we have to reproject to metric\n",
    "# Reproject to EPSG:32719 for UTM zone 19S)\n",
    "gdf = gdf.to_crs(epsg=32719)\n",
    "print(gdf.crs)"
   ]
  },
  {
   "cell_type": "code",
   "execution_count": 4,
   "metadata": {},
   "outputs": [
    {
     "name": "stdout",
     "output_type": "stream",
     "text": [
      "        id  Name description timestamp begin end altitudeMode  tessellate  \\\n",
      "0     None  None        None       NaT   NaT NaT         None          -1   \n",
      "1     None  None        None       NaT   NaT NaT         None          -1   \n",
      "2     None  None        None       NaT   NaT NaT         None          -1   \n",
      "3     None  None        None       NaT   NaT NaT         None          -1   \n",
      "4     None  None        None       NaT   NaT NaT         None          -1   \n",
      "...    ...   ...         ...       ...   ...  ..          ...         ...   \n",
      "4822  None  None        None       NaT   NaT NaT         None          -1   \n",
      "4823  None  None        None       NaT   NaT NaT         None          -1   \n",
      "4824  None  None        None       NaT   NaT NaT         None          -1   \n",
      "4825  None  None        None       NaT   NaT NaT         None          -1   \n",
      "4826  None  None        None       NaT   NaT NaT         None          -1   \n",
      "\n",
      "      extrude  visibility  drawOrder  icon Layer  PaperSpace  \\\n",
      "0           0          -1        NaN  None     0         NaN   \n",
      "1           0          -1        NaN  None     0         NaN   \n",
      "2           0          -1        NaN  None     0         NaN   \n",
      "3           0          -1        NaN  None     0         NaN   \n",
      "4           0          -1        NaN  None     0         NaN   \n",
      "...       ...         ...        ...   ...   ...         ...   \n",
      "4822        0          -1        NaN  None     0         NaN   \n",
      "4823        0          -1        NaN  None     0         NaN   \n",
      "4824        0          -1        NaN  None     0         NaN   \n",
      "4825        0          -1        NaN  None     0         NaN   \n",
      "4826        0          -1        NaN  None     0         NaN   \n",
      "\n",
      "                   SubClasses Linetype EntityHandle  Text  \\\n",
      "0       AcDbEntity:AcDbSpline     None          100  None   \n",
      "1       AcDbEntity:AcDbSpline     None          101  None   \n",
      "2       AcDbEntity:AcDbSpline     None          102  None   \n",
      "3       AcDbEntity:AcDbSpline     None          103  None   \n",
      "4       AcDbEntity:AcDbSpline     None          104  None   \n",
      "...                       ...      ...          ...   ...   \n",
      "4822    AcDbEntity:AcDbSpline     None         13d6  None   \n",
      "4823    AcDbEntity:AcDbSpline     None         13d7  None   \n",
      "4824    AcDbEntity:AcDbSpline     None         13d8  None   \n",
      "4825    AcDbEntity:AcDbSpline     None         13d9  None   \n",
      "4826  AcDbEntity:AcDbPolyline     None         13da  None   \n",
      "\n",
      "                                               geometry  \n",
      "0     MULTILINESTRING ((7547419.494 21858504.026, 75...  \n",
      "1     MULTILINESTRING ((7547394.402 21858705.569, 75...  \n",
      "2     MULTILINESTRING ((7547520.144 21858729.759, 75...  \n",
      "3     MULTILINESTRING ((7547606.216 21858601.837, 75...  \n",
      "4     MULTILINESTRING ((7546952.497 21859003.539, 75...  \n",
      "...                                                 ...  \n",
      "4822  MULTILINESTRING ((7547198.437 21861970.704, 75...  \n",
      "4823  MULTILINESTRING ((7547282.03 21862028.012, 754...  \n",
      "4824  MULTILINESTRING ((7547247.694 21862186.76, 754...  \n",
      "4825  MULTILINESTRING ((7547097.177 21862270.051, 75...  \n",
      "4826  MULTILINESTRING ((7539712.738 21865676.9, 7539...  \n",
      "\n",
      "[4827 rows x 19 columns]\n"
     ]
    }
   ],
   "source": [
    "print(gdf)"
   ]
  }
 ],
 "metadata": {
  "kernelspec": {
   "display_name": "geo_data",
   "language": "python",
   "name": "python3"
  },
  "language_info": {
   "codemirror_mode": {
    "name": "ipython",
    "version": 3
   },
   "file_extension": ".py",
   "mimetype": "text/x-python",
   "name": "python",
   "nbconvert_exporter": "python",
   "pygments_lexer": "ipython3",
   "version": "3.10.18"
  }
 },
 "nbformat": 4,
 "nbformat_minor": 2
}
