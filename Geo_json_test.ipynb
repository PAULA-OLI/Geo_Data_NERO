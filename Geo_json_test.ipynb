{
 "cells": [
  {
   "cell_type": "code",
   "execution_count": null,
   "metadata": {},
   "outputs": [
    {
     "name": "stdout",
     "output_type": "stream",
     "text": [
      "EPSG:32719\n"
     ]
    }
   ],
   "source": [
    "#### FIRST ATTEMPT TO DO THE GEOJSON\n",
    "\n",
    "import geopandas as gpd\n",
    "\n",
    "# Check the georeference stystem\n",
    "gdf = gpd.read_file('/home/polivera/Documents/NERO - Database/Chile/ColonelFires/Progression_ColonelFire_UTC.shp')\n",
    "print(gdf.crs)\n",
    "\n",
    "# If the result is EPSG:32719 -> Coordenate System iks WGS84 / UTM zone 19S -> NO REPROJECTION NEEDED!!!"
   ]
  },
  {
   "cell_type": "code",
   "execution_count": null,
   "metadata": {},
   "outputs": [],
   "source": [
    "# EDIT SHAPEFILE WITH ISOCHRONES #\n",
    "\n",
    "gdf = gpd.read_file('/home/polivera/Documents/NERO - Database/Chile/ColonelFires/Progression_ColonelFire_UTC.shp')\n",
    "\n",
    "# Rename attributes\n",
    "# Chance 'old_name':'new_name'\n",
    "gdf = gdf.rename(columns={\n",
    "    'date_hour': 'iso_timestamp'\n",
    "})\n",
    "\n",
    "# Add new attributes\n",
    "gdf['area_ha'] = gdf.geometry.area / 10000  \n",
    "gdf['perimeter_m'] = gdf.geometry.length\n",
    "\n",
    "# Sort ids with time stamps -> from early to later\n",
    "gdf = gdf.sort_values('iso_timestamp')\n",
    "\n",
    "# Convine geometries with the same 'iso_timestamp'\n",
    "gdf_2 = gdf.dissolve(by='iso_timestamp', as_index=False)\n",
    "\n",
    "# CReate a new 'id' secuancial (starting in 1)\n",
    "gdf_2 = gdf_2.sort_values('iso_timestamp').reset_index(drop=True)\n",
    "gdf_2['id'] = gdf_2.index + 1\n",
    "\n",
    "# Define the attribute colums order\n",
    "mand_atrib= ['id', 'iso_timestamp', 'area_ha', 'perimeter_m']\n",
    "\n",
    "# Add the rest of the attributes\n",
    "extra_atrib = [col for col in gdf_2.columns if col not in mand_atrib and col != 'geometry']\n",
    "\n",
    "# Reorganizar columnas (la geometría al final)\n",
    "gdf_2 = gdf_2[mand_atrib + extra_atrib]\n",
    "\n",
    "# Ahora guarda el archivo con las columnas en el orden deseado\n",
    "gdf_2.to_file('ColonelFires_test5.geojson', driver='GeoJSON')\n"
   ]
  }
 ],
 "metadata": {
  "kernelspec": {
   "display_name": "geo_data",
   "language": "python",
   "name": "python3"
  },
  "language_info": {
   "codemirror_mode": {
    "name": "ipython",
    "version": 3
   },
   "file_extension": ".py",
   "mimetype": "text/x-python",
   "name": "python",
   "nbconvert_exporter": "python",
   "pygments_lexer": "ipython3",
   "version": "3.10.18"
  }
 },
 "nbformat": 4,
 "nbformat_minor": 2
}
