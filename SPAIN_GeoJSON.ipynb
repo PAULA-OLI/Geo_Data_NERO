{
 "cells": [
  {
   "cell_type": "code",
   "execution_count": 3,
   "metadata": {},
   "outputs": [
    {
     "name": "stdout",
     "output_type": "stream",
     "text": [
      "EPSG:25830\n",
      "EPSG:32719\n"
     ]
    }
   ],
   "source": [
    "######## SPAIN - SHP FILES\n",
    "\n",
    "import geopandas as gpd\n",
    "\n",
    "# Check the georeference stystem\n",
    "gdf = gpd.read_file('/home/polivera/Documents/NERO - Database/Spain/La_Estrella_2020/Isochrones/Isochrones.shp')\n",
    "print(gdf.crs)\n",
    "\n",
    "gdf = gdf.to_crs(epsg=32719)\n",
    "print(gdf.crs)\n"
   ]
  },
  {
   "cell_type": "code",
   "execution_count": null,
   "metadata": {},
   "outputs": [],
   "source": [
    "import pandas as pd\n",
    "import geopandas as gpd\n",
    "import re\n",
    "\n",
    "gdf = gpd.read_file('/home/polivera/Documents/NERO - Database/Spain/La_Estrella_2020/Isochrones/Isochrones.shp')\n",
    "gdf = gdf.to_crs(epsg=32719)\n",
    "\n",
    "def crear_iso_timestamp(row):\n",
    "    # Extract date from 'fecha' and format 30072020 → 2020-07-30\n",
    "    date_str = str(row['fecha'])\n",
    "    if len(date_str) == 8:\n",
    "        date_fmt = f\"{date_str[4:8]}-{date_str[2:4]}-{date_str[0:2]}\"\n",
    "    else:\n",
    "        date_fmt = ''\n",
    "    # Extract hour from 'Descripcio'\n",
    "    descripcio_str = str(row['Descripcio'])\n",
    "    m = re.search(r'_(\\d{4})$', descripcio_str)\n",
    "    if m:\n",
    "        hour_fmt = f\"{m.group(1)[0:2]}:{m.group(1)[2:4]}\"\n",
    "    else:\n",
    "        hour_fmt = ''\n",
    "    # COmbine date and hour\n",
    "    if date_fmt and hour_fmt:\n",
    "        return f\"{date_fmt} {hour_fmt}\"\n",
    "    else:\n",
    "        return ''\n",
    "\n",
    "# Create the new column\n",
    "gdf['iso_timestamp'] = gdf.apply(crear_iso_timestamp, axis=1)\n",
    "\n",
    "# Add new attributes\n",
    "gdf['area_ha'] = gdf.geometry.area / 10000  \n",
    "gdf['perimeter_m'] = gdf.geometry.length\n",
    "\n",
    "# Delete attribute\n",
    "gdf = gdf.drop('Perim_m', axis=1)\n",
    "gdf = gdf.drop('Superficie', axis=1)\n",
    "gdf = gdf.drop('Id', axis=1)\n",
    "\n",
    "gdf = gdf.sort_values('iso_timestamp')\n",
    "\n",
    "gdf_2 = gdf.dissolve(by='iso_timestamp', as_index=False)\n",
    "\n",
    "gdf_2 = gdf_2.sort_values('iso_timestamp').reset_index(drop=True)\n",
    "gdf_2['id'] = gdf_2.index + 1\n",
    "\n",
    "mand_atrib= ['id', 'iso_timestamp', 'area_ha', 'perimeter_m']\n",
    "\n",
    "extra_atrib = [col for col in gdf_2.columns if col not in mand_atrib]\n",
    "\n",
    "gdf_2 = gdf_2[mand_atrib + extra_atrib]\n",
    "\n",
    "# Save GeoJSON\n",
    "gdf_2.to_file('LaEstrella2020Fire_test1.geojson', driver='GeoJSON')\n"
   ]
  }
 ],
 "metadata": {
  "kernelspec": {
   "display_name": "geo_data",
   "language": "python",
   "name": "python3"
  },
  "language_info": {
   "codemirror_mode": {
    "name": "ipython",
    "version": 3
   },
   "file_extension": ".py",
   "mimetype": "text/x-python",
   "name": "python",
   "nbconvert_exporter": "python",
   "pygments_lexer": "ipython3",
   "version": "3.10.18"
  }
 },
 "nbformat": 4,
 "nbformat_minor": 2
}
